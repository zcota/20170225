{
 "cells": [
  {
   "cell_type": "markdown",
   "metadata": {
    "collapsed": true,
    "deletable": true,
    "editable": true
   },
   "source": [
    "# Functions\n",
    "Functions in Python are like mathematical functions.\n",
    "A function will take some values, do something to them or with them, and return something.\n",
    "Python functions can take any combination of data types and data structures\n",
    "and return a single value that can be any data type or data structure"
   ]
  },
  {
   "cell_type": "markdown",
   "metadata": {
    "deletable": true,
    "editable": true
   },
   "source": [
    "_Don't forget, to run a cell use the keys Shift+Enter_"
   ]
  },
  {
   "cell_type": "code",
   "execution_count": 27,
   "metadata": {
    "collapsed": true,
    "deletable": true,
    "editable": true
   },
   "outputs": [],
   "source": [
    "# a simple function that looks like a mathematical function\n",
    "# define a function called add_two_numbers that take 2 arguments: num1 and num2\n",
    "def add_two_numbers(num1, num2):\n",
    "    # Under the def must be indented\n",
    "    #start w/def give it a name and some values, defining a function doesn't run the function\n",
    "    return num1 + num2 # use the return statment to tell the function what to return\n"
   ]
  },
  {
   "cell_type": "markdown",
   "metadata": {
    "deletable": true,
    "editable": true
   },
   "source": [
    "Use return ... to give a value back to the caller. A function that doesn’t explicitly return a value automatically returns None.\n",
    "\n",
    "Defining a function does not run it. You must call the function to execute the code it contains."
   ]
  },
  {
   "cell_type": "code",
   "execution_count": 28,
   "metadata": {
    "collapsed": false,
    "deletable": true,
    "editable": true
   },
   "outputs": [
    {
     "data": {
      "text/plain": [
       "955"
      ]
     },
     "execution_count": 28,
     "metadata": {},
     "output_type": "execute_result"
    }
   ],
   "source": [
    "add_two_numbers(905, 50)"
   ]
  },
  {
   "cell_type": "code",
   "execution_count": 29,
   "metadata": {
    "collapsed": false,
    "deletable": true,
    "editable": true
   },
   "outputs": [
    {
     "name": "stdout",
     "output_type": "stream",
     "text": [
      "995\n",
      "995\n"
     ]
    }
   ],
   "source": [
    "# written a different way\n",
    "# define a function called add_two_numbers that take 2 arguments: num1 and num2\n",
    "def add_two_numbers(num1, num2): \n",
    "    total = num1 + num2 # do the stuff\n",
    "    # This is the body of the function\n",
    "    return total # use the return statment to tell the function what to return\n",
    "\n",
    "result = add_two_numbers(905, 90)\n",
    "print(result)\n",
    "print(add_two_numbers(905, 90))"
   ]
  },
  {
   "cell_type": "markdown",
   "metadata": {
    "deletable": true,
    "editable": true
   },
   "source": [
    "### Question 00"
   ]
  },
  {
   "cell_type": "markdown",
   "metadata": {
    "deletable": true,
    "editable": true
   },
   "source": [
    "What does the following program print? (Don't actually code, just think about it.)\n",
    "```\n",
    "def report(pressure):\n",
    "    print(‘pressure is: ’, pressure)\n",
    "\n",
    "report(22.5)\n",
    "```"
   ]
  },
  {
   "cell_type": "markdown",
   "metadata": {
    "deletable": true,
    "editable": true
   },
   "source": [
    "### Practice 00"
   ]
  },
  {
   "cell_type": "markdown",
   "metadata": {
    "deletable": true,
    "editable": true
   },
   "source": [
    "“Adding” two strings produces their concatenation: 'a' + 'b' is 'ab'. Write a function called quote that takes two parameters called original and wrapper and returns a new string that has the wrapper character at the beginning and end of the original. \n",
    "\n",
    "A call to your function should look like this:\n",
    "```\n",
    "print(quote('name', '\"'))\n",
    "\"name\"\n",
    "```"
   ]
  },
  {
   "cell_type": "code",
   "execution_count": 30,
   "metadata": {
    "collapsed": false,
    "deletable": true,
    "editable": true
   },
   "outputs": [
    {
     "name": "stdout",
     "output_type": "stream",
     "text": [
      "212\n"
     ]
    }
   ],
   "source": [
    "def quote(original,wrapper):\n",
    "    return wrapper+original+wrapper\n",
    "\n",
    "print(quote(\"1\", \"2\"))\n",
    "    # write your function here"
   ]
  },
  {
   "cell_type": "code",
   "execution_count": 31,
   "metadata": {
    "collapsed": false,
    "deletable": true,
    "editable": true,
    "scrolled": true
   },
   "outputs": [
    {
     "name": "stdout",
     "output_type": "stream",
     "text": [
      "\"name\"\n"
     ]
    }
   ],
   "source": [
    "# Run this cell after defining your function\n",
    "print(quote('name', '\"'))"
   ]
  },
  {
   "cell_type": "markdown",
   "metadata": {
    "deletable": true,
    "editable": true
   },
   "source": [
    "### Practice 01"
   ]
  },
  {
   "cell_type": "markdown",
   "metadata": {
    "deletable": true,
    "editable": true
   },
   "source": [
    "If the variable s refers to a string, then s[0] is the string’s first character and s[-1] is its last. Write a function called outer that returns a string made up of just the first and last characters of its input. \n",
    "\n",
    "A call to your function should look like this:\n",
    "```\n",
    "print(outer('helium'))\n",
    "hm\n",
    "```"
   ]
  },
  {
   "cell_type": "code",
   "execution_count": 32,
   "metadata": {
    "collapsed": false,
    "deletable": true,
    "editable": true
   },
   "outputs": [
    {
     "data": {
      "text/plain": [
       "'fk'"
      ]
     },
     "execution_count": 32,
     "metadata": {},
     "output_type": "execute_result"
    }
   ],
   "source": [
    "def outer(my_string):\n",
    "    return my_string[0]+my_string[-1]\n",
    "outer(\"helium\")\n",
    "outer(\"frank\")\n",
    "# write your function here"
   ]
  },
  {
   "cell_type": "code",
   "execution_count": 33,
   "metadata": {
    "collapsed": false,
    "deletable": true,
    "editable": true
   },
   "outputs": [
    {
     "name": "stdout",
     "output_type": "stream",
     "text": [
      "hm\n"
     ]
    }
   ],
   "source": [
    "# Run this cell after defining your function\n",
    "print(outer('helium'))"
   ]
  },
  {
   "cell_type": "markdown",
   "metadata": {
    "deletable": true,
    "editable": true
   },
   "source": [
    "### Question 01"
   ]
  },
  {
   "cell_type": "markdown",
   "metadata": {
    "deletable": true,
    "editable": true
   },
   "source": [
    "Explain why the two lines of output appeared in the order they did.\n",
    "```\n",
    "def print_date(year, month, day):\n",
    "    joined = str(year) + '/' + str(month) + '/' + str(day)\n",
    "    print(joined)\n",
    "\n",
    "result = print_date(1871, 3, 19)\n",
    "print('result of call is:', result)\n",
    "```\n",
    "OUTPUT:\n",
    "\n",
    "1871/3/19 result of call is: None"
   ]
  },
  {
   "cell_type": "markdown",
   "metadata": {
    "deletable": true,
    "editable": true
   },
   "source": [
    "# COMMIT YOUR WORK\n",
    "Everytime you finish a function, you should commit your work."
   ]
  },
  {
   "cell_type": "markdown",
   "metadata": {
    "deletable": true,
    "editable": true
   },
   "source": [
    "## Why Use Functions?\n",
    "Functions let us break down our programs into smaller bits that can be reused and tested\n",
    "* Human beings can only keep a few items in working memory at a time.\n",
    "* Understand larger/more complicated ideas by understanding and combining pieces.\n",
    "    * Components in a machine.\n",
    "* Functions serve the same purpose in programs.\n",
    "    * Encapsulate complexity so that we can treat it as a single “thing”.\n",
    "* Also enables re-use.\n",
    "    * Write one time, use many times."
   ]
  },
  {
   "cell_type": "markdown",
   "metadata": {
    "collapsed": true,
    "deletable": true,
    "editable": true
   },
   "source": [
    "### Reusability\n",
    "Imagine a really big program with lots of lines of code.\n",
    "There is a section of code you want to use in a different part of the program.\n",
    "\n",
    "How do you reuse that part of the code?\n",
    "\n",
    "If you just have one big program then you have to copy and paste that bit of code where you want it to go, but if that bit was a function, you could just use that function\n",
    "\n",
    "\n",
    "Always keep both of these concepts in mind when writing programs.\n",
    "Try to write small functions that do one thing\n",
    "Your programs should be composed of lots of functions that do one thing\n",
    "Never have one giant function that does a million things."
   ]
  },
  {
   "cell_type": "markdown",
   "metadata": {
    "deletable": true,
    "editable": true
   },
   "source": [
    "## Our Problem\n",
    "**Last month we ran an experiment in the lab, but one of the windows was left open.**\n",
    "\n",
    "**If the temperature in the lab fell below 285 degrees Kelvin all of the data is ruined.**\n",
    "\n",
    "**Luckily a data logger was running, but unfortunately it only collects the temperature in Fahrenheit.**\n",
    "\n",
    "_Why is the time in a different format? To avoid difficulties during class with having to teach datetime stuff._\n",
    "\n",
    "**Example log data:**\n",
    "\n",
    "```\n",
    "beginTime,Temp\n",
    "42736.00,54\n",
    "42736.04,11.7\n",
    "42736.08,11.7\n",
    "```"
   ]
  },
  {
   "cell_type": "markdown",
   "metadata": {
    "deletable": true,
    "editable": true
   },
   "source": [
    "Write a function that converts temperatures from Fahrenheit to Kelvin. ((temp_f - 32) * (5/9)) + 273.15"
   ]
  },
  {
   "cell_type": "code",
   "execution_count": 34,
   "metadata": {
    "collapsed": false,
    "deletable": true,
    "editable": true
   },
   "outputs": [
    {
     "name": "stdout",
     "output_type": "stream",
     "text": [
      "273.15\n"
     ]
    }
   ],
   "source": [
    "def fahr_to_kelvin(temp_f):\n",
    "    return(temp_f - 32) * (5/9) + 273.15# write your function here\n",
    "\n",
    "print(fahr_to_kelvin(32))\n",
    "\n",
    "#for any given function it should only do one thing"
   ]
  },
  {
   "cell_type": "markdown",
   "metadata": {
    "deletable": true,
    "editable": true
   },
   "source": [
    "##### COMMIT YOUR WORK"
   ]
  },
  {
   "cell_type": "markdown",
   "metadata": {
    "deletable": true,
    "editable": true
   },
   "source": [
    "### Documentation\n",
    "Along with the concept of resusability is documenation.\n",
    "\n",
    "While python is easy to read and follow, you will either need to share\n",
    "your code with others or you will forget what you did.\n",
    "\n",
    "You should strive to always add a sentance or two description of what the function does, as well as providing one or two examples."
   ]
  },
  {
   "cell_type": "code",
   "execution_count": 35,
   "metadata": {
    "collapsed": false,
    "deletable": true,
    "editable": true,
    "scrolled": true
   },
   "outputs": [
    {
     "name": "stdout",
     "output_type": "stream",
     "text": [
      "Help on built-in function round in module builtins:\n",
      "\n",
      "round(...)\n",
      "    round(number[, ndigits]) -> number\n",
      "    \n",
      "    Round a number to a given precision in decimal digits (default 0 digits).\n",
      "    This returns an int when called with one argument, otherwise the\n",
      "    same type as the number. ndigits may be negative.\n",
      "\n"
     ]
    }
   ],
   "source": [
    "help(round)"
   ]
  },
  {
   "cell_type": "markdown",
   "metadata": {
    "deletable": true,
    "editable": true
   },
   "source": [
    "Another way"
   ]
  },
  {
   "cell_type": "code",
   "execution_count": 36,
   "metadata": {
    "collapsed": false,
    "deletable": true,
    "editable": true
   },
   "outputs": [],
   "source": [
    "round?"
   ]
  },
  {
   "cell_type": "markdown",
   "metadata": {
    "deletable": true,
    "editable": true
   },
   "source": [
    "Another way"
   ]
  },
  {
   "cell_type": "code",
   "execution_count": 37,
   "metadata": {
    "collapsed": false,
    "deletable": true,
    "editable": true
   },
   "outputs": [
    {
     "ename": "SyntaxError",
     "evalue": "unexpected EOF while parsing (<ipython-input-37-619f1018e51f>, line 1)",
     "output_type": "error",
     "traceback": [
      "\u001b[0;36m  File \u001b[0;32m\"<ipython-input-37-619f1018e51f>\"\u001b[0;36m, line \u001b[0;32m1\u001b[0m\n\u001b[0;31m    round(#put your cursor and use the keys Shift+tab\u001b[0m\n\u001b[0m                                                     ^\u001b[0m\n\u001b[0;31mSyntaxError\u001b[0m\u001b[0;31m:\u001b[0m unexpected EOF while parsing\n"
     ]
    }
   ],
   "source": [
    "round(#put your cursor and use the keys Shift+tab"
   ]
  },
  {
   "cell_type": "markdown",
   "metadata": {
    "deletable": true,
    "editable": true
   },
   "source": [
    "Adding documentation to your own code is simple and easy.\n",
    "\n",
    "Immediately after defining the function add a documenation block with triple-quotes (''')\n",
    "```\n",
    "def add_two_numbers(num1, num2):\n",
    "    '''\n",
    "    This is where to put documentation\n",
    "    Return the sum of two numbers\n",
    "    Example:\n",
    "    >>> add_two_numbers(4, 19)\n",
    "    23\n",
    "    >>> add_two_numbers(-1, 5)\n",
    "    4\n",
    "    '''\n",
    "    return num1 + num2\n",
    "```\n",
    "Add documentation to your function fahr_to_kelvin."
   ]
  },
  {
   "cell_type": "code",
   "execution_count": null,
   "metadata": {
    "collapsed": true
   },
   "outputs": [],
   "source": [
    "# Copy the function from above here, but this time add documentation"
   ]
  },
  {
   "cell_type": "code",
   "execution_count": null,
   "metadata": {
    "collapsed": true,
    "deletable": true,
    "editable": true
   },
   "outputs": [],
   "source": [
    "# Run this cell after adding documentation\n",
    "help(fahr_to_kelvin)"
   ]
  },
  {
   "cell_type": "markdown",
   "metadata": {
    "deletable": true,
    "editable": true
   },
   "source": [
    "##### COMMIT YOUR WORK"
   ]
  },
  {
   "cell_type": "markdown",
   "metadata": {
    "deletable": true,
    "editable": true
   },
   "source": [
    "**We read the packaging on the materials wrong! If the temperature in the lab fell below -5 degrees Celsius all of the data is ruined.**\n",
    "\n",
    "Write a function that converts temperatures from Kelvin into Celsius. temp_k - 273.15"
   ]
  },
  {
   "cell_type": "code",
   "execution_count": 44,
   "metadata": {
    "collapsed": false,
    "deletable": true,
    "editable": true
   },
   "outputs": [
    {
     "name": "stdout",
     "output_type": "stream",
     "text": [
      "0.0\n",
      "26.850000000000023\n"
     ]
    }
   ],
   "source": [
    "def kelvin_to_celsius(temp_k):\n",
    "    '''given kelvin returns temperature in celsius'''\n",
    "    return temp_k - 273.15# write your function here\n",
    "\n",
    "print(kelvin_to_celsius(273.15))\n",
    "print(kelvin_to_celsius(300))"
   ]
  },
  {
   "cell_type": "code",
   "execution_count": null,
   "metadata": {
    "collapsed": false,
    "deletable": true,
    "editable": true
   },
   "outputs": [],
   "source": [
    "# Did you add documentation?\n",
    "help(kelvin_to_celsius)"
   ]
  },
  {
   "cell_type": "markdown",
   "metadata": {
    "collapsed": true,
    "deletable": true,
    "editable": true
   },
   "source": [
    "##### COMMIT YOUR WORK"
   ]
  },
  {
   "cell_type": "markdown",
   "metadata": {
    "collapsed": true,
    "deletable": true,
    "editable": true
   },
   "source": [
    "**Because we know issues like this happen all of the time, let's prepare for the inevitability.**\n",
    "\n",
    "Write a function to convert Fahrenheit to Celsius, **without a formula**.\n",
    "\n",
    "We could write out the formula, but we don’t need to. Instead, we can compose the two functions we have already created"
   ]
  },
  {
   "cell_type": "code",
   "execution_count": 45,
   "metadata": {
    "collapsed": false,
    "deletable": true,
    "editable": true
   },
   "outputs": [
    {
     "data": {
      "text/plain": [
       "0.0"
      ]
     },
     "execution_count": 45,
     "metadata": {},
     "output_type": "execute_result"
    }
   ],
   "source": [
    "def fahr_to_celsius(temp_f):\n",
    "    '''given Farenheit returns temparature in celsius'''\n",
    "    temp_k = fahr_to_kelvin(temp_f)\n",
    "    temp_c = kelvin_to_celsius(temp_k)\n",
    "    return temp_c\n",
    "\n",
    "fahr_to_celsius(32)\n"
   ]
  },
  {
   "cell_type": "markdown",
   "metadata": {
    "deletable": true,
    "editable": true
   },
   "source": [
    "This is our first taste of how larger programs are built: we define basic operations, then combine them in ever-larger chunks to get the effect we want. Real-life functions will usually be larger than the ones shown here — typically half a dozen to a few dozen lines — but they shouldn’t ever be much longer than that, or the next person who reads it won’t be able to understand what’s going on."
   ]
  },
  {
   "cell_type": "markdown",
   "metadata": {
    "collapsed": false,
    "deletable": true,
    "editable": true
   },
   "source": [
    "Did you write documenation?\n",
    "##### COMMIT YOUR WORK"
   ]
  },
  {
   "cell_type": "markdown",
   "metadata": {
    "collapsed": true,
    "deletable": true,
    "editable": true
   },
   "source": [
    "### Arguments in call are matched to parameters in definition.\n",
    "* Functions are most useful when they can operate on different data.\n",
    "* Specify parameters when defining a function.\n",
    "    * These become variables when the function is executed.\n",
    "    * Are assigned the arguments in the call (i.e., the values passed to the function)."
   ]
  },
  {
   "cell_type": "markdown",
   "metadata": {
    "deletable": true,
    "editable": true
   },
   "source": [
    "### Default Values\n",
    "If we usually want a function to work one way, but occasionally need it to do something else, we can allow people to pass a parameter when they need to but provide a default to make the normal case easier."
   ]
  },
  {
   "cell_type": "code",
   "execution_count": null,
   "metadata": {
    "collapsed": false,
    "deletable": true,
    "editable": true
   },
   "outputs": [],
   "source": [
    "def display(a=1, b=2, c=3):\n",
    "    print('a:', a, 'b:', b, 'c:', c)\n",
    "\n",
    "print('no parameters:')\n",
    "display()\n",
    "print('one parameter:')\n",
    "display(55)\n",
    "print('two parameters:')\n",
    "display(55, 66)"
   ]
  },
  {
   "cell_type": "markdown",
   "metadata": {
    "deletable": true,
    "editable": true
   },
   "source": [
    "As this example shows, parameters are matched up from left to right, and any that haven’t been given a value explicitly get their default value. We can override this behavior by naming the value as we pass it in:"
   ]
  },
  {
   "cell_type": "code",
   "execution_count": null,
   "metadata": {
    "collapsed": false,
    "deletable": true,
    "editable": true
   },
   "outputs": [],
   "source": [
    "print('only setting the value of c')\n",
    "display(c=77)"
   ]
  },
  {
   "cell_type": "markdown",
   "metadata": {
    "deletable": true,
    "editable": true
   },
   "source": [
    "**It looks like the logger actually can collect Celsius after all! Unfortunately the logger forgets what temperature type to log and has been intermittently logging both Celsius and Fahrenheit. And we have material that can not have a temperature greater than 80 degrees Fahrenheit!**\n",
    "\n",
    "**Example log data:**\n",
    "```\n",
    "beginTime,Temp,TempType\n",
    "42736.00,54,F\n",
    "42736.04,11.7,C\n",
    "42736.08,11.7,C\n",
    "```"
   ]
  },
  {
   "cell_type": "markdown",
   "metadata": {
    "deletable": true,
    "editable": true
   },
   "source": [
    "First, write a function to convert from Celsius to Fahrenheit. (9/5) * temp_c + 32"
   ]
  },
  {
   "cell_type": "code",
   "execution_count": 39,
   "metadata": {
    "collapsed": false,
    "deletable": true,
    "editable": true
   },
   "outputs": [
    {
     "data": {
      "text/plain": [
       "32.0"
      ]
     },
     "execution_count": 39,
     "metadata": {},
     "output_type": "execute_result"
    }
   ],
   "source": [
    "def celsius_to_fahr(temp_c):\n",
    "    '''given celsius convert to fahrenheit'''\n",
    "    return ((9/5) * temp_c) + 32\n",
    "\n",
    "celsius_to_fahr(0)\n",
    "# write your function here"
   ]
  },
  {
   "cell_type": "markdown",
   "metadata": {
    "deletable": true,
    "editable": true
   },
   "source": [
    "##### COMMIT YOUR WORK"
   ]
  },
  {
   "cell_type": "markdown",
   "metadata": {
    "deletable": true,
    "editable": true
   },
   "source": [
    "Now, write a function that either converts to fahrenheit or celsius based on a parameter, with a default assuming fahrenheit ('F')\n",
    "\n",
    "Remember if/else:"
   ]
  },
  {
   "cell_type": "code",
   "execution_count": 40,
   "metadata": {
    "collapsed": false,
    "deletable": true,
    "editable": true
   },
   "outputs": [
    {
     "data": {
      "text/plain": [
       "122.0"
      ]
     },
     "execution_count": 40,
     "metadata": {},
     "output_type": "execute_result"
    }
   ],
   "source": [
    "def convert_temp(temp, temp_type='F'):\n",
    "    '''given a temperature & the type of temperature type is either \"F\" or \"C\" convert  to Kelvin'''\n",
    "    if temp_type ==\"F\":\n",
    "        print(\"converting fahr to celsius\")\n",
    "        out = fahr_to_celsius(temp)\n",
    "    elif temp_type ==\"C\":\n",
    "        out = celsius_to_fahr(temp)\n",
    "    else:\n",
    "        out=\"error\"\n",
    "        print(\"temp_type not recognized\")\n",
    "     \n",
    "    return out\n",
    "    \n",
    "convert_temp(50, \"C\")\n",
    "        # write your documentation here\n",
    "   #write your function here "
   ]
  },
  {
   "cell_type": "markdown",
   "metadata": {
    "deletable": true,
    "editable": true
   },
   "source": [
    "##### COMMIT YOUR WORK"
   ]
  },
  {
   "cell_type": "markdown",
   "metadata": {
    "deletable": true,
    "editable": true
   },
   "source": [
    "### Testability\n",
    "Imagine a really big program with lots of lines of code.  \n",
    "There is a problem somewhere in the code because you are not getting the results you expect\n",
    "\n",
    "How do you find the problem in your code?\n",
    "\n",
    "If your program is composed of lots of small functions that only do one thing then you can test each function individually.\n",
    "\n",
    "The full concept is beyond our workshop today, but it is simple enough, here is an example.\n",
    "\n",
    "Do your functions always work? What errors do you get? Can you change your functions to address those errors?\n",
    "\n",
    "_Hint: You can edit your functions above and then re-run the cell to update the function._"
   ]
  },
  {
   "cell_type": "code",
   "execution_count": 24,
   "metadata": {
    "collapsed": false,
    "deletable": true,
    "editable": true
   },
   "outputs": [
    {
     "name": "stdout",
     "output_type": "stream",
     "text": [
      "converting fahr to celsius\n",
      "converting fahr to celsius\n",
      "converting fahr to celsius\n"
     ]
    },
    {
     "name": "stderr",
     "output_type": "stream",
     "text": [
      "<ipython-input-24-419bd881cce9>:3: SyntaxWarning: assertion is always true, perhaps remove parentheses?\n",
      "  assert(test_1_result, -40.0)\n",
      "<ipython-input-24-419bd881cce9>:6: SyntaxWarning: assertion is always true, perhaps remove parentheses?\n",
      "  assert(test_2_result, 32.0)\n",
      "<ipython-input-24-419bd881cce9>:9: SyntaxWarning: assertion is always true, perhaps remove parentheses?\n",
      "  assert(test_3_result, 0.0)\n",
      "<ipython-input-24-419bd881cce9>:12: SyntaxWarning: assertion is always true, perhaps remove parentheses?\n",
      "  assert(test_4_result, 12.2)\n",
      "<ipython-input-24-419bd881cce9>:15: SyntaxWarning: assertion is always true, perhaps remove parentheses?\n",
      "  assert(test_5_result, 54.0)\n"
     ]
    },
    {
     "ename": "TypeError",
     "evalue": "can't multiply sequence by non-int of type 'float'",
     "output_type": "error",
     "traceback": [
      "\u001b[0;31m---------------------------------------------------------------------------\u001b[0m",
      "\u001b[0;31mTypeError\u001b[0m                                 Traceback (most recent call last)",
      "\u001b[0;32m<ipython-input-24-419bd881cce9>\u001b[0m in \u001b[0;36m<module>\u001b[0;34m()\u001b[0m\n\u001b[1;32m     16\u001b[0m \u001b[1;33m\u001b[0m\u001b[0m\n\u001b[1;32m     17\u001b[0m \u001b[1;31m# Did you handle strings instead of float?\u001b[0m\u001b[1;33m\u001b[0m\u001b[1;33m\u001b[0m\u001b[0m\n\u001b[0;32m---> 18\u001b[0;31m \u001b[0mtest_6_result\u001b[0m \u001b[1;33m=\u001b[0m \u001b[0mconvert_temp\u001b[0m\u001b[1;33m(\u001b[0m\u001b[1;34m'12.2'\u001b[0m\u001b[1;33m,\u001b[0m \u001b[1;34m'C'\u001b[0m\u001b[1;33m)\u001b[0m\u001b[1;33m\u001b[0m\u001b[0m\n\u001b[0m\u001b[1;32m     19\u001b[0m \u001b[1;32massert\u001b[0m\u001b[1;33m(\u001b[0m\u001b[0mtest_6_result\u001b[0m\u001b[1;33m,\u001b[0m \u001b[1;36m54.0\u001b[0m\u001b[1;33m)\u001b[0m\u001b[1;33m\u001b[0m\u001b[0m\n",
      "\u001b[0;32m<ipython-input-23-00a8b5b17d4f>\u001b[0m in \u001b[0;36mconvert_temp\u001b[0;34m(temp, temp_type)\u001b[0m\n\u001b[1;32m      5\u001b[0m         \u001b[0mout\u001b[0m \u001b[1;33m=\u001b[0m \u001b[0mfahr_to_celsius\u001b[0m\u001b[1;33m(\u001b[0m\u001b[0mtemp\u001b[0m\u001b[1;33m)\u001b[0m\u001b[1;33m\u001b[0m\u001b[0m\n\u001b[1;32m      6\u001b[0m     \u001b[1;32melif\u001b[0m \u001b[0mtemp_type\u001b[0m \u001b[1;33m==\u001b[0m\u001b[1;34m\"C\"\u001b[0m\u001b[1;33m:\u001b[0m\u001b[1;33m\u001b[0m\u001b[0m\n\u001b[0;32m----> 7\u001b[0;31m         \u001b[0mout\u001b[0m \u001b[1;33m=\u001b[0m \u001b[0mcelsius_to_fahr\u001b[0m\u001b[1;33m(\u001b[0m\u001b[0mtemp\u001b[0m\u001b[1;33m)\u001b[0m\u001b[1;33m\u001b[0m\u001b[0m\n\u001b[0m\u001b[1;32m      8\u001b[0m     \u001b[1;32melse\u001b[0m\u001b[1;33m:\u001b[0m\u001b[1;33m\u001b[0m\u001b[0m\n\u001b[1;32m      9\u001b[0m         \u001b[0mout\u001b[0m\u001b[1;33m=\u001b[0m\u001b[1;34m\"error\"\u001b[0m\u001b[1;33m\u001b[0m\u001b[0m\n",
      "\u001b[0;32m<ipython-input-13-99fb77923d58>\u001b[0m in \u001b[0;36mcelsius_to_fahr\u001b[0;34m(temp_c)\u001b[0m\n\u001b[1;32m      1\u001b[0m \u001b[1;32mdef\u001b[0m \u001b[0mcelsius_to_fahr\u001b[0m\u001b[1;33m(\u001b[0m\u001b[0mtemp_c\u001b[0m\u001b[1;33m)\u001b[0m\u001b[1;33m:\u001b[0m\u001b[1;33m\u001b[0m\u001b[0m\n\u001b[1;32m      2\u001b[0m     \u001b[1;34m'''given celsius convert to fahrenheit'''\u001b[0m\u001b[1;33m\u001b[0m\u001b[0m\n\u001b[0;32m----> 3\u001b[0;31m     \u001b[1;32mreturn\u001b[0m \u001b[1;33m(\u001b[0m\u001b[1;33m(\u001b[0m\u001b[1;36m9\u001b[0m\u001b[1;33m/\u001b[0m\u001b[1;36m5\u001b[0m\u001b[1;33m)\u001b[0m \u001b[1;33m*\u001b[0m \u001b[0mtemp_c\u001b[0m\u001b[1;33m)\u001b[0m \u001b[1;33m+\u001b[0m \u001b[1;36m32\u001b[0m\u001b[1;33m\u001b[0m\u001b[0m\n\u001b[0m\u001b[1;32m      4\u001b[0m \u001b[1;33m\u001b[0m\u001b[0m\n\u001b[1;32m      5\u001b[0m \u001b[0mcelsius_to_fahr\u001b[0m\u001b[1;33m(\u001b[0m\u001b[1;36m0\u001b[0m\u001b[1;33m)\u001b[0m\u001b[1;33m\u001b[0m\u001b[0m\n",
      "\u001b[0;31mTypeError\u001b[0m: can't multiply sequence by non-int of type 'float'"
     ]
    }
   ],
   "source": [
    "# Run this cell after writing convert_temp\n",
    "test_1_result = convert_temp(-40.0, 'F')\n",
    "assert(test_1_result, -40.0)\n",
    "\n",
    "test_2_result = convert_temp(0.0, 'C')\n",
    "assert(test_2_result, 32.0)\n",
    "\n",
    "test_3_result = convert_temp(32.0, 'F')\n",
    "assert(test_3_result, 0.0)\n",
    "\n",
    "test_4_result = convert_temp(54.0)\n",
    "assert(test_4_result, 12.2)\n",
    "\n",
    "test_5_result = convert_temp(12.2, 'C')\n",
    "assert(test_5_result, 54.0)\n",
    "\n",
    "# Did you handle strings instead of float?\n",
    "test_6_result = convert_temp('12.2', 'C')\n",
    "assert(test_6_result, 54.0)\n",
    "\n",
    "#assert means a way to test something\n",
    "#The error is that you didn't tell the function how to handle a string - convert string to float\n"
   ]
  },
  {
   "cell_type": "markdown",
   "metadata": {
    "collapsed": true,
    "deletable": true,
    "editable": true
   },
   "source": [
    "##### COMMIT YOUR WORK"
   ]
  },
  {
   "cell_type": "markdown",
   "metadata": {
    "deletable": true,
    "editable": true
   },
   "source": [
    "Let's load the logger data.\n",
    "\n",
    "Below is a function that loads a file and loops over each line. \n",
    "\n",
    "Adjust the function to convert the temperature, and saves the temp to the right list.\n",
    "\n",
    "_Hint: You can add items to a list with append()_"
   ]
  },
  {
   "cell_type": "code",
   "execution_count": 10,
   "metadata": {
    "collapsed": true,
    "deletable": true,
    "editable": true
   },
   "outputs": [],
   "source": [
    "import csv"
   ]
  },
  {
   "cell_type": "code",
   "execution_count": 29,
   "metadata": {
    "collapsed": false
   },
   "outputs": [
    {
     "name": "stdout",
     "output_type": "stream",
     "text": [
      "Help on built-in function open in module io:\n",
      "\n",
      "open(file, mode='r', buffering=-1, encoding=None, errors=None, newline=None, closefd=True, opener=None)\n",
      "    Open file and return a stream.  Raise IOError upon failure.\n",
      "    \n",
      "    file is either a text or byte string giving the name (and the path\n",
      "    if the file isn't in the current working directory) of the file to\n",
      "    be opened or an integer file descriptor of the file to be\n",
      "    wrapped. (If a file descriptor is given, it is closed when the\n",
      "    returned I/O object is closed, unless closefd is set to False.)\n",
      "    \n",
      "    mode is an optional string that specifies the mode in which the file\n",
      "    is opened. It defaults to 'r' which means open for reading in text\n",
      "    mode.  Other common values are 'w' for writing (truncating the file if\n",
      "    it already exists), 'x' for creating and writing to a new file, and\n",
      "    'a' for appending (which on some Unix systems, means that all writes\n",
      "    append to the end of the file regardless of the current seek position).\n",
      "    In text mode, if encoding is not specified the encoding used is platform\n",
      "    dependent: locale.getpreferredencoding(False) is called to get the\n",
      "    current locale encoding. (For reading and writing raw bytes use binary\n",
      "    mode and leave encoding unspecified.) The available modes are:\n",
      "    \n",
      "    ========= ===============================================================\n",
      "    Character Meaning\n",
      "    --------- ---------------------------------------------------------------\n",
      "    'r'       open for reading (default)\n",
      "    'w'       open for writing, truncating the file first\n",
      "    'x'       create a new file and open it for writing\n",
      "    'a'       open for writing, appending to the end of the file if it exists\n",
      "    'b'       binary mode\n",
      "    't'       text mode (default)\n",
      "    '+'       open a disk file for updating (reading and writing)\n",
      "    'U'       universal newline mode (deprecated)\n",
      "    ========= ===============================================================\n",
      "    \n",
      "    The default mode is 'rt' (open for reading text). For binary random\n",
      "    access, the mode 'w+b' opens and truncates the file to 0 bytes, while\n",
      "    'r+b' opens the file without truncation. The 'x' mode implies 'w' and\n",
      "    raises an `FileExistsError` if the file already exists.\n",
      "    \n",
      "    Python distinguishes between files opened in binary and text modes,\n",
      "    even when the underlying operating system doesn't. Files opened in\n",
      "    binary mode (appending 'b' to the mode argument) return contents as\n",
      "    bytes objects without any decoding. In text mode (the default, or when\n",
      "    't' is appended to the mode argument), the contents of the file are\n",
      "    returned as strings, the bytes having been first decoded using a\n",
      "    platform-dependent encoding or using the specified encoding if given.\n",
      "    \n",
      "    'U' mode is deprecated and will raise an exception in future versions\n",
      "    of Python.  It has no effect in Python 3.  Use newline to control\n",
      "    universal newlines mode.\n",
      "    \n",
      "    buffering is an optional integer used to set the buffering policy.\n",
      "    Pass 0 to switch buffering off (only allowed in binary mode), 1 to select\n",
      "    line buffering (only usable in text mode), and an integer > 1 to indicate\n",
      "    the size of a fixed-size chunk buffer.  When no buffering argument is\n",
      "    given, the default buffering policy works as follows:\n",
      "    \n",
      "    * Binary files are buffered in fixed-size chunks; the size of the buffer\n",
      "      is chosen using a heuristic trying to determine the underlying device's\n",
      "      \"block size\" and falling back on `io.DEFAULT_BUFFER_SIZE`.\n",
      "      On many systems, the buffer will typically be 4096 or 8192 bytes long.\n",
      "    \n",
      "    * \"Interactive\" text files (files for which isatty() returns True)\n",
      "      use line buffering.  Other text files use the policy described above\n",
      "      for binary files.\n",
      "    \n",
      "    encoding is the name of the encoding used to decode or encode the\n",
      "    file. This should only be used in text mode. The default encoding is\n",
      "    platform dependent, but any encoding supported by Python can be\n",
      "    passed.  See the codecs module for the list of supported encodings.\n",
      "    \n",
      "    errors is an optional string that specifies how encoding errors are to\n",
      "    be handled---this argument should not be used in binary mode. Pass\n",
      "    'strict' to raise a ValueError exception if there is an encoding error\n",
      "    (the default of None has the same effect), or pass 'ignore' to ignore\n",
      "    errors. (Note that ignoring encoding errors can lead to data loss.)\n",
      "    See the documentation for codecs.register or run 'help(codecs.Codec)'\n",
      "    for a list of the permitted encoding error strings.\n",
      "    \n",
      "    newline controls how universal newlines works (it only applies to text\n",
      "    mode). It can be None, '', '\\n', '\\r', and '\\r\\n'.  It works as\n",
      "    follows:\n",
      "    \n",
      "    * On input, if newline is None, universal newlines mode is\n",
      "      enabled. Lines in the input can end in '\\n', '\\r', or '\\r\\n', and\n",
      "      these are translated into '\\n' before being returned to the\n",
      "      caller. If it is '', universal newline mode is enabled, but line\n",
      "      endings are returned to the caller untranslated. If it has any of\n",
      "      the other legal values, input lines are only terminated by the given\n",
      "      string, and the line ending is returned to the caller untranslated.\n",
      "    \n",
      "    * On output, if newline is None, any '\\n' characters written are\n",
      "      translated to the system default line separator, os.linesep. If\n",
      "      newline is '' or '\\n', no translation takes place. If newline is any\n",
      "      of the other legal values, any '\\n' characters written are translated\n",
      "      to the given string.\n",
      "    \n",
      "    If closefd is False, the underlying file descriptor will be kept open\n",
      "    when the file is closed. This does not work when a file name is given\n",
      "    and must be True in that case.\n",
      "    \n",
      "    A custom opener can be used by passing a callable as *opener*. The\n",
      "    underlying file descriptor for the file object is then obtained by\n",
      "    calling *opener* with (*file*, *flags*). *opener* must return an open\n",
      "    file descriptor (passing os.open as *opener* results in functionality\n",
      "    similar to passing None).\n",
      "    \n",
      "    open() returns a file object whose type depends on the mode, and\n",
      "    through which the standard file operations such as reading and writing\n",
      "    are performed. When open() is used to open a file in a text mode ('w',\n",
      "    'r', 'wt', 'rt', etc.), it returns a TextIOWrapper. When used to open\n",
      "    a file in a binary mode, the returned class varies: in read binary\n",
      "    mode, it returns a BufferedReader; in write binary and append binary\n",
      "    modes, it returns a BufferedWriter, and in read/write mode, it returns\n",
      "    a BufferedRandom.\n",
      "    \n",
      "    It is also possible to use a string or bytearray as a file for both\n",
      "    reading and writing. For strings StringIO can be used like a file\n",
      "    opened in a text mode, and for bytes a BytesIO can be used like a file\n",
      "    opened in a binary mode.\n",
      "\n"
     ]
    }
   ],
   "source": [
    "help(open)\n"
   ]
  },
  {
   "cell_type": "code",
   "execution_count": 49,
   "metadata": {
    "collapsed": false,
    "deletable": true,
    "editable": true,
    "scrolled": false
   },
   "outputs": [
    {
     "name": "stdout",
     "output_type": "stream",
     "text": [
      "This is the row: ['beginTime', 'Temp', 'TempType']\n",
      "This is the row: ['42736.00', '54', 'F']\n",
      "54 F\n",
      "converting fahr to celsius\n",
      "12.222222222222229\n",
      "This is the row: ['42736.04', '11.7', 'C']\n",
      "11.7 C\n",
      "53.06\n",
      "This is the row: ['42736.08', '11.7', 'C']\n",
      "11.7 C\n",
      "53.06\n",
      "This is the row: ['42736.13', '12.2', 'C']\n",
      "12.2 C\n",
      "53.96\n",
      "This is the row: ['42736.17', '12.8', 'C']\n",
      "12.8 C\n",
      "55.040000000000006\n",
      "This is the row: ['42736.21', '55', 'F']\n",
      "55 F\n",
      "converting fahr to celsius\n",
      "12.777777777777771\n",
      "This is the row: ['42736.25', '55', 'F']\n",
      "55 F\n",
      "converting fahr to celsius\n",
      "12.777777777777771\n",
      "This is the row: ['42736.29', '11.7', 'C']\n",
      "11.7 C\n",
      "53.06\n",
      "This is the row: ['42736.33', '11.7', 'C']\n",
      "11.7 C\n",
      "53.06\n",
      "This is the row: ['42736.38', '53.1', 'F']\n",
      "53.1 F\n",
      "converting fahr to celsius\n",
      "11.722222222222229\n",
      "This is the row: ['42736.42', '45', 'F']\n",
      "45 F\n",
      "converting fahr to celsius\n",
      "7.2222222222222285\n",
      "This is the row: ['42736.46', '7.2', 'C']\n",
      "7.2 C\n",
      "44.96\n",
      "This is the row: ['42736.50', '46', 'F']\n",
      "46 F\n",
      "converting fahr to celsius\n",
      "7.7777777777777715\n",
      "This is the row: ['42736.54', '46.9', 'F']\n",
      "46.9 F\n",
      "converting fahr to celsius\n",
      "8.277777777777771\n",
      "This is the row: ['42736.58', '10', 'C']\n",
      "10 C\n",
      "50.0\n",
      "This is the row: ['42736.63', '10.6', 'C']\n",
      "10.6 C\n",
      "51.08\n",
      "This is the row: ['42736.67', '10', 'C']\n",
      "10 C\n",
      "50.0\n",
      "This is the row: ['42736.71', '48.9', 'F']\n",
      "48.9 F\n",
      "converting fahr to celsius\n",
      "9.388888888888914\n",
      "This is the row: ['42736.75', '48.9', 'F']\n",
      "48.9 F\n",
      "converting fahr to celsius\n",
      "9.388888888888914\n",
      "This is the row: ['42736.79', '9.4', 'C']\n",
      "9.4 C\n",
      "48.92\n",
      "This is the row: ['42736.83', '8.3', 'C']\n",
      "8.3 C\n",
      "46.94\n",
      "This is the row: ['42736.88', '7.8', 'C']\n",
      "7.8 C\n",
      "46.04\n",
      "This is the row: ['42736.92', '7.2', 'C']\n",
      "7.2 C\n",
      "44.96\n",
      "This is the row: ['42736.96', '44.1', 'F']\n",
      "44.1 F\n",
      "converting fahr to celsius\n",
      "6.7222222222222285\n",
      "This is the row: ['42737.00', '43', 'F']\n",
      "43 F\n",
      "converting fahr to celsius\n",
      "6.111111111111086\n",
      "This is the row: ['42737.04', '43', 'F']\n",
      "43 F\n",
      "converting fahr to celsius\n",
      "6.111111111111086\n",
      "This is the row: ['42737.08', '6.1', 'C']\n",
      "6.1 C\n",
      "42.980000000000004\n",
      "This is the row: ['42737.13', '5.6', 'C']\n",
      "5.6 C\n",
      "42.08\n",
      "This is the row: ['42737.17', '42.1', 'F']\n",
      "42.1 F\n",
      "converting fahr to celsius\n",
      "5.611111111111086\n",
      "This is the row: ['42737.21', '2.8', 'C']\n",
      "2.8 C\n",
      "37.04\n",
      "This is the row: ['42737.25', '3.3', 'C']\n",
      "3.3 C\n",
      "37.94\n",
      "This is the row: ['42737.29', '3.9', 'C']\n",
      "3.9 C\n",
      "39.019999999999996\n",
      "This is the row: ['42737.33', '6.1', 'C']\n",
      "6.1 C\n",
      "42.980000000000004\n",
      "This is the row: ['42737.38', '7.8', 'C']\n",
      "7.8 C\n",
      "46.04\n",
      "This is the row: ['42737.42', '48', 'F']\n",
      "48 F\n",
      "converting fahr to celsius\n",
      "8.888888888888914\n",
      "This is the row: ['42737.46', '10.6', 'C']\n",
      "10.6 C\n",
      "51.08\n",
      "This is the row: ['42737.50', '12.8', 'C']\n",
      "12.8 C\n",
      "55.040000000000006\n",
      "This is the row: ['42737.54', '55', 'F']\n",
      "55 F\n",
      "converting fahr to celsius\n",
      "12.777777777777771\n",
      "This is the row: ['42737.58', '55.9', 'F']\n",
      "55.9 F\n",
      "converting fahr to celsius\n",
      "13.277777777777771\n",
      "This is the row: ['42737.63', '55.9', 'F']\n",
      "55.9 F\n",
      "converting fahr to celsius\n",
      "13.277777777777771\n",
      "This is the row: ['42737.67', '12.8', 'C']\n",
      "12.8 C\n",
      "55.040000000000006\n",
      "This is the row: ['42737.71', '11.7', 'C']\n",
      "11.7 C\n",
      "53.06\n",
      "This is the row: ['42737.75', '10.6', 'C']\n",
      "10.6 C\n",
      "51.08\n",
      "This is the row: ['42737.79', '50', 'F']\n",
      "50 F\n",
      "converting fahr to celsius\n",
      "10.0\n",
      "This is the row: ['42737.83', '51.1', 'F']\n",
      "51.1 F\n",
      "converting fahr to celsius\n",
      "10.611111111111086\n",
      "This is the row: ['42737.88', '48', 'F']\n",
      "48 F\n",
      "converting fahr to celsius\n",
      "8.888888888888914\n",
      "This is the row: ['42737.92', '48', 'F']\n",
      "48 F\n",
      "converting fahr to celsius\n",
      "8.888888888888914\n",
      "This is the row: ['42737.96', '7.8', 'C']\n",
      "7.8 C\n",
      "46.04\n",
      "This is the row: ['42738.00', '45', 'F']\n",
      "45 F\n",
      "converting fahr to celsius\n",
      "7.2222222222222285\n",
      "This is the row: ['42738.04', '44.1', 'F']\n",
      "44.1 F\n",
      "converting fahr to celsius\n",
      "6.7222222222222285\n",
      "This is the row: ['42738.08', '41', 'F']\n",
      "41 F\n",
      "converting fahr to celsius\n",
      "5.0\n",
      "This is the row: ['42738.13', '39.9', 'F']\n",
      "39.9 F\n",
      "converting fahr to celsius\n",
      "4.388888888888914\n",
      "This is the row: ['42738.17', '5', 'C']\n",
      "5 C\n",
      "41.0\n",
      "This is the row: ['42738.21', '39.9', 'F']\n",
      "39.9 F\n",
      "converting fahr to celsius\n",
      "4.388888888888914\n",
      "This is the row: ['42738.25', '39.9', 'F']\n",
      "39.9 F\n",
      "converting fahr to celsius\n",
      "4.388888888888914\n",
      "This is the row: ['42738.29', '4.4', 'C']\n",
      "4.4 C\n",
      "39.92\n",
      "This is the row: ['42738.33', '43', 'F']\n",
      "43 F\n",
      "converting fahr to celsius\n",
      "6.111111111111086\n",
      "This is the row: ['42738.38', '10', 'C']\n",
      "10 C\n",
      "50.0\n",
      "This is the row: ['42738.42', '11.7', 'C']\n",
      "11.7 C\n",
      "53.06\n",
      "This is the row: ['42738.46', '55.9', 'F']\n",
      "55.9 F\n",
      "converting fahr to celsius\n",
      "13.277777777777771\n",
      "This is the row: ['42738.50', '59', 'F']\n",
      "59 F\n",
      "converting fahr to celsius\n",
      "15.0\n",
      "This is the row: ['42738.54', '17.2', 'C']\n",
      "17.2 C\n",
      "62.96\n",
      "This is the row: ['42738.58', '17.2', 'C']\n",
      "17.2 C\n",
      "62.96\n",
      "This is the row: ['42738.63', '63', 'F']\n",
      "63 F\n",
      "converting fahr to celsius\n",
      "17.22222222222223\n",
      "This is the row: ['42738.67', '16.7', 'C']\n",
      "16.7 C\n",
      "62.06\n",
      "This is the row: ['42738.71', '60.1', 'F']\n",
      "60.1 F\n",
      "converting fahr to celsius\n",
      "15.611111111111086\n",
      "This is the row: ['42738.75', '57.9', 'F']\n",
      "57.9 F\n",
      "converting fahr to celsius\n",
      "14.388888888888914\n",
      "This is the row: ['42738.79', '13.9', 'C']\n",
      "13.9 C\n",
      "57.019999999999996\n",
      "This is the row: ['42738.83', '13.9', 'C']\n",
      "13.9 C\n",
      "57.019999999999996\n",
      "This is the row: ['42738.88', '54', 'F']\n",
      "54 F\n",
      "converting fahr to celsius\n",
      "12.222222222222229\n",
      "This is the row: ['42738.92', '53.1', 'F']\n",
      "53.1 F\n",
      "converting fahr to celsius\n",
      "11.722222222222229\n",
      "This is the row: ['42738.96', '53.1', 'F']\n",
      "53.1 F\n",
      "converting fahr to celsius\n",
      "11.722222222222229\n",
      "This is the row: ['42739.00', '10.6', 'C']\n",
      "10.6 C\n",
      "51.08\n",
      "This is the row: ['42739.04', '50', 'F']\n",
      "50 F\n",
      "converting fahr to celsius\n",
      "10.0\n",
      "This is the row: ['42739.08', '11.1', 'C']\n",
      "11.1 C\n",
      "51.980000000000004\n",
      "This is the row: ['42739.13', '48.9', 'F']\n",
      "48.9 F\n",
      "converting fahr to celsius\n",
      "9.388888888888914\n",
      "This is the row: ['42739.17', '8.9', 'C']\n",
      "8.9 C\n",
      "48.019999999999996\n",
      "This is the row: ['42739.21', '7.8', 'C']\n",
      "7.8 C\n",
      "46.04\n",
      "This is the row: ['42739.25', '44.1', 'F']\n",
      "44.1 F\n",
      "converting fahr to celsius\n",
      "6.7222222222222285\n",
      "This is the row: ['42739.29', '7.2', 'C']\n",
      "7.2 C\n",
      "44.96\n",
      "This is the row: ['42739.33', '48', 'F']\n",
      "48 F\n",
      "converting fahr to celsius\n",
      "8.888888888888914\n",
      "This is the row: ['42739.38', '12.2', 'C']\n",
      "12.2 C\n",
      "53.96\n",
      "This is the row: ['42739.42', '13.9', 'C']\n",
      "13.9 C\n",
      "57.019999999999996\n",
      "This is the row: ['42739.46', '16.7', 'C']\n",
      "16.7 C\n",
      "62.06\n",
      "This is the row: ['42739.50', '66', 'F']\n",
      "66 F\n",
      "converting fahr to celsius\n",
      "18.888888888888914\n",
      "This is the row: ['42739.54', '19.4', 'C']\n",
      "19.4 C\n",
      "66.92\n",
      "This is the row: ['42739.58', '20', 'C']\n",
      "20 C\n",
      "68.0\n",
      "This is the row: ['42739.63', '69.1', 'F']\n",
      "69.1 F\n",
      "converting fahr to celsius\n",
      "20.611111111111086\n",
      "This is the row: ['42739.67', '18.9', 'C']\n",
      "18.9 C\n",
      "66.02\n",
      "This is the row: ['42739.71', '16.1', 'C']\n",
      "16.1 C\n",
      "60.980000000000004\n",
      "This is the row: ['42739.75', '15', 'C']\n",
      "15 C\n",
      "59.0\n",
      "This is the row: ['42739.79', '12.2', 'C']\n",
      "12.2 C\n",
      "53.96\n",
      "This is the row: ['42739.83', '52', 'F']\n",
      "52 F\n",
      "converting fahr to celsius\n",
      "11.111111111111086\n",
      "This is the row: ['42739.88', '50', 'F']\n",
      "50 F\n",
      "converting fahr to celsius\n",
      "10.0\n",
      "This is the row: ['42739.92', '48.9', 'F']\n",
      "48.9 F\n",
      "converting fahr to celsius\n",
      "9.388888888888914\n",
      "This is the row: ['42739.96', '9.4', 'C']\n",
      "9.4 C\n",
      "48.92\n",
      "This is the row: ['42740.00', '46.9', 'F']\n",
      "46.9 F\n",
      "converting fahr to celsius\n",
      "8.277777777777771\n",
      "This is the row: ['42740.04', '46.9', 'F']\n",
      "46.9 F\n",
      "converting fahr to celsius\n",
      "8.277777777777771\n",
      "This is the row: ['42740.08', '7.8', 'C']\n",
      "7.8 C\n",
      "46.04\n",
      "This is the row: ['42740.13', '8.3', 'C']\n",
      "8.3 C\n",
      "46.94\n",
      "This is the row: ['42740.17', '45', 'F']\n",
      "45 F\n",
      "converting fahr to celsius\n",
      "7.2222222222222285\n",
      "This is the row: ['42740.21', '44.1', 'F']\n",
      "44.1 F\n",
      "converting fahr to celsius\n",
      "6.7222222222222285\n",
      "This is the row: ['42740.25', '7.2', 'C']\n",
      "7.2 C\n",
      "44.96\n",
      "This is the row: ['42740.29', '7.8', 'C']\n",
      "7.8 C\n",
      "46.04\n",
      "This is the row: ['42740.33', '8.9', 'C']\n",
      "8.9 C\n",
      "48.019999999999996\n",
      "This is the row: ['42740.38', '11.7', 'C']\n",
      "11.7 C\n",
      "53.06\n",
      "This is the row: ['42740.42', '57.9', 'F']\n",
      "57.9 F\n",
      "converting fahr to celsius\n",
      "14.388888888888914\n",
      "This is the row: ['42740.46', '66', 'F']\n",
      "66 F\n",
      "converting fahr to celsius\n",
      "18.888888888888914\n",
      "This is the row: ['42740.50', '66', 'F']\n",
      "66 F\n",
      "converting fahr to celsius\n",
      "18.888888888888914\n",
      "This is the row: ['42740.54', '69.1', 'F']\n",
      "69.1 F\n",
      "converting fahr to celsius\n",
      "20.611111111111086\n",
      "This is the row: ['42740.58', '69.1', 'F']\n",
      "69.1 F\n",
      "converting fahr to celsius\n",
      "20.611111111111086\n",
      "This is the row: ['42740.63', '69.1', 'F']\n",
      "69.1 F\n",
      "converting fahr to celsius\n",
      "20.611111111111086\n",
      "This is the row: ['42740.67', '19.4', 'C']\n",
      "19.4 C\n",
      "66.92\n",
      "This is the row: ['42740.71', '17.8', 'C']\n",
      "17.8 C\n",
      "64.03999999999999\n",
      "This is the row: ['42740.75', '16.1', 'C']\n",
      "16.1 C\n",
      "60.980000000000004\n",
      "This is the row: ['42740.79', '60.1', 'F']\n",
      "60.1 F\n",
      "converting fahr to celsius\n",
      "15.611111111111086\n",
      "This is the row: ['42740.83', '57', 'F']\n",
      "57 F\n",
      "converting fahr to celsius\n",
      "13.888888888888914\n",
      "This is the row: ['42740.88', '55', 'F']\n",
      "55 F\n",
      "converting fahr to celsius\n",
      "12.777777777777771\n",
      "This is the row: ['42740.92', '11.7', 'C']\n",
      "11.7 C\n",
      "53.06\n",
      "This is the row: ['42740.96', '52', 'F']\n",
      "52 F\n",
      "converting fahr to celsius\n",
      "11.111111111111086\n",
      "This is the row: ['42741.00', '51.1', 'F']\n",
      "51.1 F\n",
      "converting fahr to celsius\n",
      "10.611111111111086\n",
      "This is the row: ['42741.04', '53.1', 'F']\n",
      "53.1 F\n",
      "converting fahr to celsius\n",
      "11.722222222222229\n",
      "This is the row: ['42741.08', '48.9', 'F']\n",
      "48.9 F\n",
      "converting fahr to celsius\n",
      "9.388888888888914\n",
      "This is the row: ['42741.13', '10', 'C']\n",
      "10 C\n",
      "50.0\n",
      "This is the row: ['42741.17', '8.9', 'C']\n",
      "8.9 C\n",
      "48.019999999999996\n",
      "This is the row: ['42741.21', '50', 'F']\n",
      "50 F\n",
      "converting fahr to celsius\n",
      "10.0\n",
      "This is the row: ['42741.25', '53.1', 'F']\n",
      "53.1 F\n",
      "converting fahr to celsius\n",
      "11.722222222222229\n",
      "This is the row: ['42741.29', '50', 'F']\n",
      "50 F\n",
      "converting fahr to celsius\n",
      "10.0\n",
      "This is the row: ['42741.33', '54', 'F']\n",
      "54 F\n",
      "converting fahr to celsius\n",
      "12.222222222222229\n",
      "This is the row: ['42741.38', '13.9', 'C']\n",
      "13.9 C\n",
      "57.019999999999996\n",
      "This is the row: ['42741.42', '14.4', 'C']\n",
      "14.4 C\n",
      "57.92\n",
      "This is the row: ['42741.46', '60.1', 'F']\n",
      "60.1 F\n",
      "converting fahr to celsius\n",
      "15.611111111111086\n",
      "This is the row: ['42741.50', '16.1', 'C']\n",
      "16.1 C\n",
      "60.980000000000004\n",
      "This is the row: ['42741.54', '16.1', 'C']\n",
      "16.1 C\n",
      "60.980000000000004\n",
      "This is the row: ['42741.58', '62.1', 'F']\n",
      "62.1 F\n",
      "converting fahr to celsius\n",
      "16.72222222222223\n",
      "This is the row: ['42741.63', '62.1', 'F']\n",
      "62.1 F\n",
      "converting fahr to celsius\n",
      "16.72222222222223\n",
      "This is the row: ['42741.67', '16.1', 'C']\n",
      "16.1 C\n",
      "60.980000000000004\n",
      "This is the row: ['42741.71', '14.4', 'C']\n",
      "14.4 C\n",
      "57.92\n",
      "This is the row: ['42741.75', '54', 'F']\n",
      "54 F\n",
      "converting fahr to celsius\n",
      "12.222222222222229\n",
      "This is the row: ['42741.79', '54', 'F']\n",
      "54 F\n",
      "converting fahr to celsius\n",
      "12.222222222222229\n",
      "This is the row: ['42741.83', '48.9', 'F']\n",
      "48.9 F\n",
      "converting fahr to celsius\n",
      "9.388888888888914\n",
      "This is the row: ['42741.88', '46.9', 'F']\n",
      "46.9 F\n",
      "converting fahr to celsius\n",
      "8.277777777777771\n",
      "This is the row: ['42741.92', '45', 'F']\n",
      "45 F\n",
      "converting fahr to celsius\n",
      "7.2222222222222285\n",
      "This is the row: ['42741.96', '6.7', 'C']\n",
      "6.7 C\n",
      "44.06\n",
      "This is the row: ['42742.00', '42.1', 'F']\n",
      "42.1 F\n",
      "converting fahr to celsius\n",
      "5.611111111111086\n",
      "This is the row: ['42742.04', '43', 'F']\n",
      "43 F\n",
      "converting fahr to celsius\n",
      "6.111111111111086\n",
      "This is the row: ['42742.08', '6.7', 'C']\n",
      "6.7 C\n",
      "44.06\n",
      "This is the row: ['42742.13', '5.6', 'C']\n",
      "5.6 C\n",
      "42.08\n",
      "This is the row: ['42742.17', '5.6', 'C']\n",
      "5.6 C\n",
      "42.08\n",
      "This is the row: ['42742.21', '41', 'F']\n",
      "41 F\n",
      "converting fahr to celsius\n",
      "5.0\n",
      "This is the row: ['42742.25', '5', 'C']\n",
      "5 C\n",
      "41.0\n",
      "This is the row: ['42742.29', '39', 'F']\n",
      "39 F\n",
      "converting fahr to celsius\n",
      "3.888888888888914\n",
      "This is the row: ['42742.33', '48.9', 'F']\n",
      "48.9 F\n",
      "converting fahr to celsius\n",
      "9.388888888888914\n",
      "This is the row: ['42742.38', '51.1', 'F']\n",
      "51.1 F\n",
      "converting fahr to celsius\n",
      "10.611111111111086\n",
      "This is the row: ['42742.42', '59', 'F']\n",
      "59 F\n",
      "converting fahr to celsius\n",
      "15.0\n",
      "This is the row: ['42742.46', '16.1', 'C']\n",
      "16.1 C\n",
      "60.980000000000004\n",
      "This is the row: ['42742.50', '17.8', 'C']\n",
      "17.8 C\n",
      "64.03999999999999\n",
      "This is the row: ['42742.54', '68', 'F']\n",
      "68 F\n",
      "converting fahr to celsius\n",
      "20.0\n",
      "This is the row: ['42742.58', '20', 'C']\n",
      "20 C\n",
      "68.0\n",
      "This is the row: ['42742.63', '70', 'F']\n",
      "70 F\n",
      "converting fahr to celsius\n",
      "21.111111111111086\n",
      "This is the row: ['42742.67', '21.1', 'C']\n",
      "21.1 C\n",
      "69.98\n",
      "This is the row: ['42742.71', '64.9', 'F']\n",
      "64.9 F\n",
      "converting fahr to celsius\n",
      "18.27777777777777\n",
      "This is the row: ['42742.75', '15.6', 'C']\n",
      "15.6 C\n",
      "60.08\n",
      "This is the row: ['42742.79', '57.9', 'F']\n",
      "57.9 F\n",
      "converting fahr to celsius\n",
      "14.388888888888914\n",
      "This is the row: ['42742.83', '11.7', 'C']\n",
      "11.7 C\n",
      "53.06\n",
      "This is the row: ['42742.88', '51.1', 'F']\n",
      "51.1 F\n",
      "converting fahr to celsius\n",
      "10.611111111111086\n",
      "This is the row: ['42742.92', '12.2', 'C']\n",
      "12.2 C\n",
      "53.96\n",
      "This is the row: ['42742.96', '11.7', 'C']\n",
      "11.7 C\n",
      "53.06\n",
      "[53.06, 53.06, 53.96, 55.040000000000006, 53.06, 53.06, 44.96, 50.0, 51.08, 50.0, 48.92, 46.94, 46.04, 44.96, 42.980000000000004, 42.08, 37.04, 37.94, 39.019999999999996, 42.980000000000004, 46.04, 51.08, 55.040000000000006, 55.040000000000006, 53.06, 51.08, 46.04, 41.0, 39.92, 50.0, 53.06, 62.96, 62.96, 62.06, 57.019999999999996, 57.019999999999996, 51.08, 51.980000000000004, 48.019999999999996, 46.04, 44.96, 53.96, 57.019999999999996, 62.06, 66.92, 68.0, 66.02, 60.980000000000004, 59.0, 53.96, 48.92, 46.04, 46.94, 44.96, 46.04, 48.019999999999996, 53.06, 66.92, 64.03999999999999, 60.980000000000004, 53.06, 50.0, 48.019999999999996, 57.019999999999996, 57.92, 60.980000000000004, 60.980000000000004, 60.980000000000004, 57.92, 44.06, 44.06, 42.08, 42.08, 41.0, 60.980000000000004, 64.03999999999999, 68.0, 69.98, 60.08, 53.06, 53.96, 53.06]\n",
      "This is the row: ['beginTime', 'Temp', 'TempType']\n",
      "This is the row: ['42736.00', '54', 'F']\n",
      "54 F\n",
      "converting fahr to celsius\n",
      "12.222222222222229\n",
      "This is the row: ['42736.04', '11.7', 'C']\n",
      "11.7 C\n",
      "53.06\n",
      "This is the row: ['42736.08', '11.7', 'C']\n",
      "11.7 C\n",
      "53.06\n",
      "This is the row: ['42736.13', '12.2', 'C']\n",
      "12.2 C\n",
      "53.96\n",
      "This is the row: ['42736.17', '12.8', 'C']\n",
      "12.8 C\n",
      "55.040000000000006\n",
      "This is the row: ['42736.21', '55', 'F']\n",
      "55 F\n",
      "converting fahr to celsius\n",
      "12.777777777777771\n",
      "This is the row: ['42736.25', '55', 'F']\n",
      "55 F\n",
      "converting fahr to celsius\n",
      "12.777777777777771\n",
      "This is the row: ['42736.29', '11.7', 'C']\n",
      "11.7 C\n",
      "53.06\n",
      "This is the row: ['42736.33', '11.7', 'C']\n",
      "11.7 C\n",
      "53.06\n",
      "This is the row: ['42736.38', '53.1', 'F']\n",
      "53.1 F\n",
      "converting fahr to celsius\n",
      "11.722222222222229\n",
      "This is the row: ['42736.42', '45', 'F']\n",
      "45 F\n",
      "converting fahr to celsius\n",
      "7.2222222222222285\n",
      "This is the row: ['42736.46', '7.2', 'C']\n",
      "7.2 C\n",
      "44.96\n",
      "This is the row: ['42736.50', '46', 'F']\n",
      "46 F\n",
      "converting fahr to celsius\n",
      "7.7777777777777715\n",
      "This is the row: ['42736.54', '46.9', 'F']\n",
      "46.9 F\n",
      "converting fahr to celsius\n",
      "8.277777777777771\n",
      "This is the row: ['42736.58', '10', 'C']\n",
      "10 C\n",
      "50.0\n",
      "This is the row: ['42736.63', '10.6', 'C']\n",
      "10.6 C\n",
      "51.08\n",
      "This is the row: ['42736.67', '10', 'C']\n",
      "10 C\n",
      "50.0\n",
      "This is the row: ['42736.71', '48.9', 'F']\n",
      "48.9 F\n",
      "converting fahr to celsius\n",
      "9.388888888888914\n",
      "This is the row: ['42736.75', '48.9', 'F']\n",
      "48.9 F\n",
      "converting fahr to celsius\n",
      "9.388888888888914\n",
      "This is the row: ['42736.79', '9.4', 'C']\n",
      "9.4 C\n",
      "48.92\n",
      "This is the row: ['42736.83', '8.3', 'C']\n",
      "8.3 C\n",
      "46.94\n",
      "This is the row: ['42736.88', '7.8', 'C']\n",
      "7.8 C\n",
      "46.04\n",
      "This is the row: ['42736.92', '7.2', 'C']\n",
      "7.2 C\n",
      "44.96\n",
      "This is the row: ['42736.96', '44.1', 'F']\n",
      "44.1 F\n",
      "converting fahr to celsius\n",
      "6.7222222222222285\n",
      "This is the row: ['42737.00', '43', 'F']\n",
      "43 F\n",
      "converting fahr to celsius\n",
      "6.111111111111086\n",
      "This is the row: ['42737.04', '43', 'F']\n",
      "43 F\n",
      "converting fahr to celsius\n",
      "6.111111111111086\n",
      "This is the row: ['42737.08', '6.1', 'C']\n",
      "6.1 C\n",
      "42.980000000000004\n",
      "This is the row: ['42737.13', '5.6', 'C']\n",
      "5.6 C\n",
      "42.08\n",
      "This is the row: ['42737.17', '42.1', 'F']\n",
      "42.1 F\n",
      "converting fahr to celsius\n",
      "5.611111111111086\n",
      "This is the row: ['42737.21', '2.8', 'C']\n",
      "2.8 C\n",
      "37.04\n",
      "This is the row: ['42737.25', '3.3', 'C']\n",
      "3.3 C\n",
      "37.94\n",
      "This is the row: ['42737.29', '3.9', 'C']\n",
      "3.9 C\n",
      "39.019999999999996\n",
      "This is the row: ['42737.33', '6.1', 'C']\n",
      "6.1 C\n",
      "42.980000000000004\n",
      "This is the row: ['42737.38', '7.8', 'C']\n",
      "7.8 C\n",
      "46.04\n",
      "This is the row: ['42737.42', '48', 'F']\n",
      "48 F\n",
      "converting fahr to celsius\n",
      "8.888888888888914\n",
      "This is the row: ['42737.46', '10.6', 'C']\n",
      "10.6 C\n",
      "51.08\n",
      "This is the row: ['42737.50', '12.8', 'C']\n",
      "12.8 C\n",
      "55.040000000000006\n",
      "This is the row: ['42737.54', '55', 'F']\n",
      "55 F\n",
      "converting fahr to celsius\n",
      "12.777777777777771\n",
      "This is the row: ['42737.58', '55.9', 'F']\n",
      "55.9 F\n",
      "converting fahr to celsius\n",
      "13.277777777777771\n",
      "This is the row: ['42737.63', '55.9', 'F']\n",
      "55.9 F\n",
      "converting fahr to celsius\n",
      "13.277777777777771\n",
      "This is the row: ['42737.67', '12.8', 'C']\n",
      "12.8 C\n",
      "55.040000000000006\n",
      "This is the row: ['42737.71', '11.7', 'C']\n",
      "11.7 C\n",
      "53.06\n",
      "This is the row: ['42737.75', '10.6', 'C']\n",
      "10.6 C\n",
      "51.08\n",
      "This is the row: ['42737.79', '50', 'F']\n",
      "50 F\n",
      "converting fahr to celsius\n",
      "10.0\n",
      "This is the row: ['42737.83', '51.1', 'F']\n",
      "51.1 F\n",
      "converting fahr to celsius\n",
      "10.611111111111086\n",
      "This is the row: ['42737.88', '48', 'F']\n",
      "48 F\n",
      "converting fahr to celsius\n",
      "8.888888888888914\n",
      "This is the row: ['42737.92', '48', 'F']\n",
      "48 F\n",
      "converting fahr to celsius\n",
      "8.888888888888914\n",
      "This is the row: ['42737.96', '7.8', 'C']\n",
      "7.8 C\n",
      "46.04\n",
      "This is the row: ['42738.00', '45', 'F']\n",
      "45 F\n",
      "converting fahr to celsius\n",
      "7.2222222222222285\n",
      "This is the row: ['42738.04', '44.1', 'F']\n",
      "44.1 F\n",
      "converting fahr to celsius\n",
      "6.7222222222222285\n",
      "This is the row: ['42738.08', '41', 'F']\n",
      "41 F\n",
      "converting fahr to celsius\n",
      "5.0\n",
      "This is the row: ['42738.13', '39.9', 'F']\n",
      "39.9 F\n",
      "converting fahr to celsius\n",
      "4.388888888888914\n",
      "This is the row: ['42738.17', '5', 'C']\n",
      "5 C\n",
      "41.0\n",
      "This is the row: ['42738.21', '39.9', 'F']\n",
      "39.9 F\n",
      "converting fahr to celsius\n",
      "4.388888888888914\n",
      "This is the row: ['42738.25', '39.9', 'F']\n",
      "39.9 F\n",
      "converting fahr to celsius\n",
      "4.388888888888914\n",
      "This is the row: ['42738.29', '4.4', 'C']\n",
      "4.4 C\n",
      "39.92\n",
      "This is the row: ['42738.33', '43', 'F']\n",
      "43 F\n",
      "converting fahr to celsius\n",
      "6.111111111111086\n",
      "This is the row: ['42738.38', '10', 'C']\n",
      "10 C\n",
      "50.0\n",
      "This is the row: ['42738.42', '11.7', 'C']\n",
      "11.7 C\n",
      "53.06\n",
      "This is the row: ['42738.46', '55.9', 'F']\n",
      "55.9 F\n",
      "converting fahr to celsius\n",
      "13.277777777777771\n",
      "This is the row: ['42738.50', '59', 'F']\n",
      "59 F\n",
      "converting fahr to celsius\n",
      "15.0\n",
      "This is the row: ['42738.54', '17.2', 'C']\n",
      "17.2 C\n",
      "62.96\n",
      "This is the row: ['42738.58', '17.2', 'C']\n",
      "17.2 C\n",
      "62.96\n",
      "This is the row: ['42738.63', '63', 'F']\n",
      "63 F\n",
      "converting fahr to celsius\n",
      "17.22222222222223\n",
      "This is the row: ['42738.67', '16.7', 'C']\n",
      "16.7 C\n",
      "62.06\n",
      "This is the row: ['42738.71', '60.1', 'F']\n",
      "60.1 F\n",
      "converting fahr to celsius\n",
      "15.611111111111086\n",
      "This is the row: ['42738.75', '57.9', 'F']\n",
      "57.9 F\n",
      "converting fahr to celsius\n",
      "14.388888888888914\n",
      "This is the row: ['42738.79', '13.9', 'C']\n",
      "13.9 C\n",
      "57.019999999999996\n",
      "This is the row: ['42738.83', '13.9', 'C']\n",
      "13.9 C\n",
      "57.019999999999996\n",
      "This is the row: ['42738.88', '54', 'F']\n",
      "54 F\n",
      "converting fahr to celsius\n",
      "12.222222222222229\n",
      "This is the row: ['42738.92', '53.1', 'F']\n",
      "53.1 F\n",
      "converting fahr to celsius\n",
      "11.722222222222229\n",
      "This is the row: ['42738.96', '53.1', 'F']\n",
      "53.1 F\n",
      "converting fahr to celsius\n",
      "11.722222222222229\n",
      "This is the row: ['42739.00', '10.6', 'C']\n",
      "10.6 C\n",
      "51.08\n",
      "This is the row: ['42739.04', '50', 'F']\n",
      "50 F\n",
      "converting fahr to celsius\n",
      "10.0\n",
      "This is the row: ['42739.08', '11.1', 'C']\n",
      "11.1 C\n",
      "51.980000000000004\n",
      "This is the row: ['42739.13', '48.9', 'F']\n",
      "48.9 F\n",
      "converting fahr to celsius\n",
      "9.388888888888914\n",
      "This is the row: ['42739.17', '8.9', 'C']\n",
      "8.9 C\n",
      "48.019999999999996\n",
      "This is the row: ['42739.21', '7.8', 'C']\n",
      "7.8 C\n",
      "46.04\n",
      "This is the row: ['42739.25', '44.1', 'F']\n",
      "44.1 F\n",
      "converting fahr to celsius\n",
      "6.7222222222222285\n",
      "This is the row: ['42739.29', '7.2', 'C']\n",
      "7.2 C\n",
      "44.96\n",
      "This is the row: ['42739.33', '48', 'F']\n",
      "48 F\n",
      "converting fahr to celsius\n",
      "8.888888888888914\n",
      "This is the row: ['42739.38', '12.2', 'C']\n",
      "12.2 C\n",
      "53.96\n",
      "This is the row: ['42739.42', '13.9', 'C']\n",
      "13.9 C\n",
      "57.019999999999996\n",
      "This is the row: ['42739.46', '16.7', 'C']\n",
      "16.7 C\n",
      "62.06\n",
      "This is the row: ['42739.50', '66', 'F']\n",
      "66 F\n",
      "converting fahr to celsius\n",
      "18.888888888888914\n",
      "This is the row: ['42739.54', '19.4', 'C']\n",
      "19.4 C\n",
      "66.92\n",
      "This is the row: ['42739.58', '20', 'C']\n",
      "20 C\n",
      "68.0\n",
      "This is the row: ['42739.63', '69.1', 'F']\n",
      "69.1 F\n",
      "converting fahr to celsius\n",
      "20.611111111111086\n",
      "This is the row: ['42739.67', '18.9', 'C']\n",
      "18.9 C\n",
      "66.02\n",
      "This is the row: ['42739.71', '16.1', 'C']\n",
      "16.1 C\n",
      "60.980000000000004\n",
      "This is the row: ['42739.75', '15', 'C']\n",
      "15 C\n",
      "59.0\n",
      "This is the row: ['42739.79', '12.2', 'C']\n",
      "12.2 C\n",
      "53.96\n",
      "This is the row: ['42739.83', '52', 'F']\n",
      "52 F\n",
      "converting fahr to celsius\n",
      "11.111111111111086\n",
      "This is the row: ['42739.88', '50', 'F']\n",
      "50 F\n",
      "converting fahr to celsius\n",
      "10.0\n",
      "This is the row: ['42739.92', '48.9', 'F']\n",
      "48.9 F\n",
      "converting fahr to celsius\n",
      "9.388888888888914\n",
      "This is the row: ['42739.96', '9.4', 'C']\n",
      "9.4 C\n",
      "48.92\n",
      "This is the row: ['42740.00', '46.9', 'F']\n",
      "46.9 F\n",
      "converting fahr to celsius\n",
      "8.277777777777771\n",
      "This is the row: ['42740.04', '46.9', 'F']\n",
      "46.9 F\n",
      "converting fahr to celsius\n",
      "8.277777777777771\n",
      "This is the row: ['42740.08', '7.8', 'C']\n",
      "7.8 C\n",
      "46.04\n",
      "This is the row: ['42740.13', '8.3', 'C']\n",
      "8.3 C\n",
      "46.94\n",
      "This is the row: ['42740.17', '45', 'F']\n",
      "45 F\n",
      "converting fahr to celsius\n",
      "7.2222222222222285\n",
      "This is the row: ['42740.21', '44.1', 'F']\n",
      "44.1 F\n",
      "converting fahr to celsius\n",
      "6.7222222222222285\n",
      "This is the row: ['42740.25', '7.2', 'C']\n",
      "7.2 C\n",
      "44.96\n",
      "This is the row: ['42740.29', '7.8', 'C']\n",
      "7.8 C\n",
      "46.04\n",
      "This is the row: ['42740.33', '8.9', 'C']\n",
      "8.9 C\n",
      "48.019999999999996\n",
      "This is the row: ['42740.38', '11.7', 'C']\n",
      "11.7 C\n",
      "53.06\n",
      "This is the row: ['42740.42', '57.9', 'F']\n",
      "57.9 F\n",
      "converting fahr to celsius\n",
      "14.388888888888914\n",
      "This is the row: ['42740.46', '66', 'F']\n",
      "66 F\n",
      "converting fahr to celsius\n",
      "18.888888888888914\n",
      "This is the row: ['42740.50', '66', 'F']\n",
      "66 F\n",
      "converting fahr to celsius\n",
      "18.888888888888914\n",
      "This is the row: ['42740.54', '69.1', 'F']\n",
      "69.1 F\n",
      "converting fahr to celsius\n",
      "20.611111111111086\n",
      "This is the row: ['42740.58', '69.1', 'F']\n",
      "69.1 F\n",
      "converting fahr to celsius\n",
      "20.611111111111086\n",
      "This is the row: ['42740.63', '69.1', 'F']\n",
      "69.1 F\n",
      "converting fahr to celsius\n",
      "20.611111111111086\n",
      "This is the row: ['42740.67', '19.4', 'C']\n",
      "19.4 C\n",
      "66.92\n",
      "This is the row: ['42740.71', '17.8', 'C']\n",
      "17.8 C\n",
      "64.03999999999999\n",
      "This is the row: ['42740.75', '16.1', 'C']\n",
      "16.1 C\n",
      "60.980000000000004\n",
      "This is the row: ['42740.79', '60.1', 'F']\n",
      "60.1 F\n",
      "converting fahr to celsius\n",
      "15.611111111111086\n",
      "This is the row: ['42740.83', '57', 'F']\n",
      "57 F\n",
      "converting fahr to celsius\n",
      "13.888888888888914\n",
      "This is the row: ['42740.88', '55', 'F']\n",
      "55 F\n",
      "converting fahr to celsius\n",
      "12.777777777777771\n",
      "This is the row: ['42740.92', '11.7', 'C']\n",
      "11.7 C\n",
      "53.06\n",
      "This is the row: ['42740.96', '52', 'F']\n",
      "52 F\n",
      "converting fahr to celsius\n",
      "11.111111111111086\n",
      "This is the row: ['42741.00', '51.1', 'F']\n",
      "51.1 F\n",
      "converting fahr to celsius\n",
      "10.611111111111086\n",
      "This is the row: ['42741.04', '53.1', 'F']\n",
      "53.1 F\n",
      "converting fahr to celsius\n",
      "11.722222222222229\n",
      "This is the row: ['42741.08', '48.9', 'F']\n",
      "48.9 F\n",
      "converting fahr to celsius\n",
      "9.388888888888914\n",
      "This is the row: ['42741.13', '10', 'C']\n",
      "10 C\n",
      "50.0\n",
      "This is the row: ['42741.17', '8.9', 'C']\n",
      "8.9 C\n",
      "48.019999999999996\n",
      "This is the row: ['42741.21', '50', 'F']\n",
      "50 F\n",
      "converting fahr to celsius\n",
      "10.0\n",
      "This is the row: ['42741.25', '53.1', 'F']\n",
      "53.1 F\n",
      "converting fahr to celsius\n",
      "11.722222222222229\n",
      "This is the row: ['42741.29', '50', 'F']\n",
      "50 F\n",
      "converting fahr to celsius\n",
      "10.0\n",
      "This is the row: ['42741.33', '54', 'F']\n",
      "54 F\n",
      "converting fahr to celsius\n",
      "12.222222222222229\n",
      "This is the row: ['42741.38', '13.9', 'C']\n",
      "13.9 C\n",
      "57.019999999999996\n",
      "This is the row: ['42741.42', '14.4', 'C']\n",
      "14.4 C\n",
      "57.92\n",
      "This is the row: ['42741.46', '60.1', 'F']\n",
      "60.1 F\n",
      "converting fahr to celsius\n",
      "15.611111111111086\n",
      "This is the row: ['42741.50', '16.1', 'C']\n",
      "16.1 C\n",
      "60.980000000000004\n",
      "This is the row: ['42741.54', '16.1', 'C']\n",
      "16.1 C\n",
      "60.980000000000004\n",
      "This is the row: ['42741.58', '62.1', 'F']\n",
      "62.1 F\n",
      "converting fahr to celsius\n",
      "16.72222222222223\n",
      "This is the row: ['42741.63', '62.1', 'F']\n",
      "62.1 F\n",
      "converting fahr to celsius\n",
      "16.72222222222223\n",
      "This is the row: ['42741.67', '16.1', 'C']\n",
      "16.1 C\n",
      "60.980000000000004\n",
      "This is the row: ['42741.71', '14.4', 'C']\n",
      "14.4 C\n",
      "57.92\n",
      "This is the row: ['42741.75', '54', 'F']\n",
      "54 F\n",
      "converting fahr to celsius\n",
      "12.222222222222229\n",
      "This is the row: ['42741.79', '54', 'F']\n",
      "54 F\n",
      "converting fahr to celsius\n",
      "12.222222222222229\n",
      "This is the row: ['42741.83', '48.9', 'F']\n",
      "48.9 F\n",
      "converting fahr to celsius\n",
      "9.388888888888914\n",
      "This is the row: ['42741.88', '46.9', 'F']\n",
      "46.9 F\n",
      "converting fahr to celsius\n",
      "8.277777777777771\n",
      "This is the row: ['42741.92', '45', 'F']\n",
      "45 F\n",
      "converting fahr to celsius\n",
      "7.2222222222222285\n",
      "This is the row: ['42741.96', '6.7', 'C']\n",
      "6.7 C\n",
      "44.06\n",
      "This is the row: ['42742.00', '42.1', 'F']\n",
      "42.1 F\n",
      "converting fahr to celsius\n",
      "5.611111111111086\n",
      "This is the row: ['42742.04', '43', 'F']\n",
      "43 F\n",
      "converting fahr to celsius\n",
      "6.111111111111086\n",
      "This is the row: ['42742.08', '6.7', 'C']\n",
      "6.7 C\n",
      "44.06\n",
      "This is the row: ['42742.13', '5.6', 'C']\n",
      "5.6 C\n",
      "42.08\n",
      "This is the row: ['42742.17', '5.6', 'C']\n",
      "5.6 C\n",
      "42.08\n",
      "This is the row: ['42742.21', '41', 'F']\n",
      "41 F\n",
      "converting fahr to celsius\n",
      "5.0\n",
      "This is the row: ['42742.25', '5', 'C']\n",
      "5 C\n",
      "41.0\n",
      "This is the row: ['42742.29', '39', 'F']\n",
      "39 F\n",
      "converting fahr to celsius\n",
      "3.888888888888914\n",
      "This is the row: ['42742.33', '48.9', 'F']\n",
      "48.9 F\n",
      "converting fahr to celsius\n",
      "9.388888888888914\n",
      "This is the row: ['42742.38', '51.1', 'F']\n",
      "51.1 F\n",
      "converting fahr to celsius\n",
      "10.611111111111086\n",
      "This is the row: ['42742.42', '59', 'F']\n",
      "59 F\n",
      "converting fahr to celsius\n",
      "15.0\n",
      "This is the row: ['42742.46', '16.1', 'C']\n",
      "16.1 C\n",
      "60.980000000000004\n",
      "This is the row: ['42742.50', '17.8', 'C']\n",
      "17.8 C\n",
      "64.03999999999999\n",
      "This is the row: ['42742.54', '68', 'F']\n",
      "68 F\n",
      "converting fahr to celsius\n",
      "20.0\n",
      "This is the row: ['42742.58', '20', 'C']\n",
      "20 C\n",
      "68.0\n",
      "This is the row: ['42742.63', '70', 'F']\n",
      "70 F\n",
      "converting fahr to celsius\n",
      "21.111111111111086\n",
      "This is the row: ['42742.67', '21.1', 'C']\n",
      "21.1 C\n",
      "69.98\n",
      "This is the row: ['42742.71', '64.9', 'F']\n",
      "64.9 F\n",
      "converting fahr to celsius\n",
      "18.27777777777777\n",
      "This is the row: ['42742.75', '15.6', 'C']\n",
      "15.6 C\n",
      "60.08\n",
      "This is the row: ['42742.79', '57.9', 'F']\n",
      "57.9 F\n",
      "converting fahr to celsius\n",
      "14.388888888888914\n",
      "This is the row: ['42742.83', '11.7', 'C']\n",
      "11.7 C\n",
      "53.06\n",
      "This is the row: ['42742.88', '51.1', 'F']\n",
      "51.1 F\n",
      "converting fahr to celsius\n",
      "10.611111111111086\n",
      "This is the row: ['42742.92', '12.2', 'C']\n",
      "12.2 C\n",
      "53.96\n",
      "This is the row: ['42742.96', '11.7', 'C']\n",
      "11.7 C\n",
      "53.06\n",
      "My min: 37.04\n",
      "My max: 69.98\n"
     ]
    }
   ],
   "source": [
    "def convert_file(file_name='data/LabTempHourly20170101_20170107.csv'):\n",
    "    '''\n",
    "    Takes a csv file and converts each temperature to F or C and saves\n",
    "    both F and C to as list to return.\n",
    "    >>> convert_file(file_name='data/test_file.csv')\n",
    "    ([-40.0, 32.0, 54.0], [-40.0, 0.0, 12.2])\n",
    "    '''\n",
    "    with open(file_name, 'r') as csvfile:\n",
    "        reader = csv.reader(csvfile)\n",
    "        temps_fahr = []\n",
    "        temps_celsius = []\n",
    "        temperature_col = 1\n",
    "        temp_type_col = 2\n",
    "        for row in reader:\n",
    "            print(\"This is the row:\", row)\n",
    "    #for each row of the csv file\n",
    "            if row[temperature_col] != \"Temp\":  #We need to ignore the first row\n",
    "            #Don't forget to have a:\n",
    "            #Gives us the second column of the row\n",
    "                temp = row[temperature_col]\n",
    "            #Gives us the third column of the row\n",
    "                temp_type = row[temp_type_col]\n",
    "                print(temp, temp_type)\n",
    "                #Do the conversion\n",
    "                out = convert_temp(float(temp), temp_type)\n",
    "                if temp_type ==\"C\":\n",
    "                    temps_fahr.append(out)\n",
    "                print(out)\n",
    "                #elif temp_type ==\"F\":\n",
    "                #temps_fahr.append(out) \n",
    "    return temps_fahr\n",
    "print(convert_file())\n",
    "\n",
    "#To get min & max\n",
    "converted = convert_file()\n",
    "print(\"My min:\", min(converted))\n",
    "print(\"My max:\", max(converted))\n",
    "#when you have a W it writes over it, it deletes the contents that were in there - do git checkout to go back to the changes\n",
    "\n"
   ]
  },
  {
   "cell_type": "markdown",
   "metadata": {
    "collapsed": true,
    "deletable": true,
    "editable": true
   },
   "source": [
    "##### COMMIT YOUR WORK"
   ]
  },
  {
   "cell_type": "markdown",
   "metadata": {
    "deletable": true,
    "editable": true
   },
   "source": [
    "**It turns out that the logger can only log 7 days at a time before dumping the data.**\n",
    "\n",
    "Use glob.glob to find sets of files whose names match a pattern\n",
    "* In Unix, the term “globbing” means “matching a set of files with a pattern”.\n",
    "* The most common patterns are:\n",
    "    * \\* meaning “match zero or more characters”\n",
    "    * ? meaning “match exactly one character”\n",
    "* Provided in Python by the glob library, which provides a function also called glob.\n",
    "* E.g., glob.glob('*.txt') matches all files in the current directory whose names end with .txt.\n",
    "* Result is a (possibly empty) list of character strings."
   ]
  },
  {
   "cell_type": "code",
   "execution_count": null,
   "metadata": {
    "collapsed": true,
    "deletable": true,
    "editable": true
   },
   "outputs": [],
   "source": [
    "import glob\n",
    "print('all csv files in data directory:', glob.glob('data/*.csv'))"
   ]
  },
  {
   "cell_type": "code",
   "execution_count": null,
   "metadata": {
    "collapsed": true,
    "deletable": true,
    "editable": true
   },
   "outputs": [],
   "source": [
    "print('all PDB files:', glob.glob('*.pdb'))"
   ]
  },
  {
   "cell_type": "markdown",
   "metadata": {
    "deletable": true,
    "editable": true
   },
   "source": [
    "Write a function that finds all of the files in a folder using glob and for to process batches of files.\n",
    "* Helps a lot if the files are named and stored systematically and consistently so that simple patterns will find the right data."
   ]
  },
  {
   "cell_type": "code",
   "execution_count": null,
   "metadata": {
    "collapsed": true,
    "deletable": true,
    "editable": true
   },
   "outputs": [],
   "source": [
    "def find_csvs(dir):\n",
    "    # write your documentation here\n",
    "    # write your function here"
   ]
  },
  {
   "cell_type": "markdown",
   "metadata": {},
   "source": [
    "Are all of those the right files? Maybe we want to exlude one? Adjust the glob statement to exlude unwanted files."
   ]
  },
  {
   "cell_type": "markdown",
   "metadata": {
    "deletable": true,
    "editable": true
   },
   "source": [
    "##### COMMIT YOUR WORK"
   ]
  },
  {
   "cell_type": "markdown",
   "metadata": {
    "deletable": true,
    "editable": true
   },
   "source": [
    "Now bring it together. Use the find_csvs function and the convert_file to get all of the temps for the month of January.\n",
    "\n",
    " _Hint, you can use extend(newlist) to add items of a list to another list._"
   ]
  },
  {
   "cell_type": "code",
   "execution_count": null,
   "metadata": {
    "collapsed": true,
    "deletable": true,
    "editable": true
   },
   "outputs": [],
   "source": [
    "def month_temps(dir):\n",
    "    # write your documentation here\n",
    "    # write your function here\n",
    "    return month_fahr, month_cels\n",
    "\n",
    "print(month_temps('data'))"
   ]
  },
  {
   "cell_type": "markdown",
   "metadata": {
    "deletable": true,
    "editable": true
   },
   "source": [
    "## Let's plot our temperatures!"
   ]
  },
  {
   "cell_type": "markdown",
   "metadata": {
    "deletable": true,
    "editable": true
   },
   "source": [
    "### matplotlib is the most widely used scientific plotting library in Python.\n",
    "* Commonly use a sub-library called matplotlib.pyplot.\n",
    "* The Jupyter Notebook will render plots inline if we ask it to using a “magic” command."
   ]
  },
  {
   "cell_type": "code",
   "execution_count": null,
   "metadata": {
    "collapsed": true,
    "deletable": true,
    "editable": true
   },
   "outputs": [],
   "source": [
    "%matplotlib inline\n",
    "import matplotlib.pyplot as plt"
   ]
  },
  {
   "cell_type": "markdown",
   "metadata": {
    "deletable": true,
    "editable": true
   },
   "source": [
    "Simple plots are then (fairly) simple to create."
   ]
  },
  {
   "cell_type": "code",
   "execution_count": null,
   "metadata": {
    "collapsed": false,
    "deletable": true,
    "editable": true,
    "scrolled": true
   },
   "outputs": [],
   "source": [
    "x = [1, 2, 3, 4, 5]\n",
    "y = [2, 4, 6, 8, 10]\n",
    "\n",
    "plt.plot(x, y)\n",
    "plt.xlabel('Numbers')\n",
    "plt.ylabel('Doubles')\n",
    "plt.legend(['Line'])"
   ]
  },
  {
   "cell_type": "markdown",
   "metadata": {
    "deletable": true,
    "editable": true
   },
   "source": [
    "Write the last function to plot the temperature in Fahrenheit or Celsius.\n",
    "\n",
    "_Hint: Use list(range(len(monthtemp)) for the x-axis_"
   ]
  },
  {
   "cell_type": "code",
   "execution_count": null,
   "metadata": {
    "collapsed": true,
    "deletable": true,
    "editable": true
   },
   "outputs": [],
   "source": [
    "# write your function here"
   ]
  },
  {
   "cell_type": "markdown",
   "metadata": {
    "deletable": true,
    "editable": true
   },
   "source": [
    "## Final Questions\n",
    "1. Is the experiment ruined? (If the temperature in the lab fell below -5 degrees Celsius all of the data is ruined.)\n",
    "2. Is the experiment ruined, because of the material that can not have a temperature greater than 80 degrees Fahrenheit?\n",
    "#### Extra\n",
    "3. Is the experiment ruined according to the first read of material? (If the temperature in the lab fell below 285 degrees Kelvin all of the data is ruined.)\n",
    "4. How could you adjust the above convert_file function to get the date information?\n",
    "    * Can you plot temperature vs datetime?"
   ]
  },
  {
   "cell_type": "code",
   "execution_count": null,
   "metadata": {
    "collapsed": true,
    "deletable": true,
    "editable": true
   },
   "outputs": [],
   "source": []
  }
 ],
 "metadata": {
  "kernelspec": {
   "display_name": "Python 3",
   "language": "python",
   "name": "python3"
  },
  "language_info": {
   "codemirror_mode": {
    "name": "ipython",
    "version": 3
   },
   "file_extension": ".py",
   "mimetype": "text/x-python",
   "name": "python",
   "nbconvert_exporter": "python",
   "pygments_lexer": "ipython3",
   "version": "3.6.0"
  }
 },
 "nbformat": 4,
 "nbformat_minor": 2
}
